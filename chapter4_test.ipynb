{
 "cells": [
  {
   "cell_type": "code",
   "execution_count": 19,
   "metadata": {},
   "outputs": [],
   "source": [
    "%run chapter1.ipynb\n",
    "%run chapter4.ipynb"
   ]
  },
  {
   "cell_type": "code",
   "execution_count": 15,
   "metadata": {},
   "outputs": [
    {
     "name": "stdout",
     "output_type": "stream",
     "text": [
      "은닉 계층 0개를 갖는 다층 퍼셉트론이 작동되었습니다.\n",
      "Epoch 1 : loss=33.875, accuracy=0.557/0.812\n",
      "Epoch 2 : loss=8.226, accuracy=0.820/0.814\n",
      "Epoch 3 : loss=7.582, accuracy=0.812/0.809\n",
      "Epoch 4 : loss=7.475, accuracy=0.808/0.811\n",
      "Epoch 5 : loss=7.395, accuracy=0.810/0.809\n",
      "Epoch 6 : loss=7.328, accuracy=0.808/0.810\n",
      "Epoch 7 : loss=7.269, accuracy=0.808/0.811\n",
      "Epoch 8 : loss=7.217, accuracy=0.808/0.812\n",
      "Epoch 9 : loss=7.175, accuracy=0.810/0.810\n",
      "Epoch 10 : loss=7.135, accuracy=0.809/0.810\n",
      "\n",
      "Final Test : final accuracy = 0.810\n"
     ]
    }
   ],
   "source": [
    "set_hidden([])\n",
    "abalone_exec()"
   ]
  },
  {
   "cell_type": "code",
   "execution_count": 20,
   "metadata": {},
   "outputs": [
    {
     "name": "stdout",
     "output_type": "stream",
     "text": [
      "은닉 계층 하나를 갖는 다층 퍼셉트론이 작동되었습니다.\n",
      "Epoch 10 : loss=6.746, accuracy=0.808/0.803\n",
      "Epoch 20 : loss=6.230, accuracy=0.817/0.811\n",
      "Epoch 30 : loss=5.579, accuracy=0.827/0.829\n",
      "Epoch 40 : loss=5.136, accuracy=0.836/0.839\n",
      "Epoch 50 : loss=4.978, accuracy=0.839/0.832\n",
      "\n",
      "Final Test : final accuracy = 0.832\n"
     ]
    }
   ],
   "source": [
    "set_hidden(4)\n",
    "abalone_exec(epoch_count= 50, report = 10)"
   ]
  },
  {
   "cell_type": "code",
   "execution_count": 21,
   "metadata": {},
   "outputs": [
    {
     "name": "stdout",
     "output_type": "stream",
     "text": [
      "은닉 계층 하나를 갖는 다층 퍼셉트론이 작동되었습니다.\n",
      "Epoch 10 : loss=6.552, accuracy=0.812/0.790\n",
      "Epoch 20 : loss=6.035, accuracy=0.819/0.811\n",
      "Epoch 30 : loss=5.403, accuracy=0.830/0.811\n",
      "Epoch 40 : loss=4.956, accuracy=0.838/0.834\n",
      "Epoch 50 : loss=4.826, accuracy=0.841/0.818\n",
      "\n",
      "Final Test : final accuracy = 0.818\n"
     ]
    }
   ],
   "source": [
    "abalone_exec(epoch_count= 50, report = 10)"
   ]
  },
  {
   "cell_type": "code",
   "execution_count": 28,
   "metadata": {},
   "outputs": [],
   "source": [
    "%run chapter2.ipynb\n",
    "%run chapter4.ipynb"
   ]
  },
  {
   "cell_type": "code",
   "execution_count": 24,
   "metadata": {},
   "outputs": [
    {
     "name": "stdout",
     "output_type": "stream",
     "text": [
      "은닉 계층 하나를 갖는 다층 퍼셉트론이 작동되었습니다.\n",
      "Epoch 10 : loss=0.094, accuracy=0.972/0.972\n",
      "Epoch 20 : loss=0.091, accuracy=0.973/0.974\n",
      "Epoch 30 : loss=0.091, accuracy=0.973/0.974\n",
      "Epoch 40 : loss=0.089, accuracy=0.974/0.974\n",
      "Epoch 50 : loss=0.089, accuracy=0.974/0.975\n",
      "\n",
      "Final Test : final accuracy = 0.975\n"
     ]
    }
   ],
   "source": [
    "set_hidden(6)\n",
    "pulsar_exec(epoch_count = 50, report = 10)"
   ]
  },
  {
   "cell_type": "code",
   "execution_count": 29,
   "metadata": {},
   "outputs": [
    {
     "name": "stdout",
     "output_type": "stream",
     "text": [
      "은닉 계층 1개를 갖는 다층 퍼셉트론이 작동되었습니다.\n",
      "Epoch 10 : loss=0.094, accuracy=0.972/0.972\n",
      "Epoch 20 : loss=0.091, accuracy=0.973/0.974\n",
      "Epoch 30 : loss=0.091, accuracy=0.973/0.974\n",
      "Epoch 40 : loss=0.089, accuracy=0.974/0.974\n",
      "Epoch 50 : loss=0.089, accuracy=0.974/0.975\n",
      "\n",
      "Final Test : final accuracy = 0.975\n"
     ]
    }
   ],
   "source": [
    "set_hidden([6])\n",
    "pulsar_exec(epoch_count = 50, report = 10)"
   ]
  },
  {
   "cell_type": "code",
   "execution_count": 30,
   "metadata": {},
   "outputs": [
    {
     "name": "stdout",
     "output_type": "stream",
     "text": [
      "은닉 계층 2개를 갖는 다층 퍼셉트론이 작동되었습니다.\n",
      "Epoch 40 : loss=0.087, accuracy=0.975/0.970\n",
      "Epoch 80 : loss=0.083, accuracy=0.977/0.972\n",
      "Epoch 120 : loss=0.081, accuracy=0.977/0.969\n",
      "Epoch 160 : loss=0.081, accuracy=0.977/0.972\n",
      "Epoch 200 : loss=0.080, accuracy=0.976/0.972\n",
      "\n",
      "Final Test : final accuracy = 0.972\n"
     ]
    }
   ],
   "source": [
    "set_hidden([12, 6])\n",
    "pulsar_exec(epoch_count = 200, report = 40)"
   ]
  },
  {
   "cell_type": "code",
   "execution_count": 31,
   "metadata": {},
   "outputs": [],
   "source": [
    "%run chapter3.ipynb\n",
    "%run chapter4.ipynb"
   ]
  },
  {
   "cell_type": "code",
   "execution_count": 32,
   "metadata": {},
   "outputs": [
    {
     "name": "stdout",
     "output_type": "stream",
     "text": [
      "은닉 계층 하나를 갖는 다층 퍼셉트론이 작동되었습니다.\n",
      "Epoch 10 : loss=1.849, accuracy=0.352/0.325\n",
      "Epoch 20 : loss=1.786, accuracy=0.352/0.325\n",
      "Epoch 30 : loss=1.747, accuracy=0.352/0.325\n",
      "Epoch 40 : loss=1.723, accuracy=0.352/0.325\n",
      "Epoch 50 : loss=1.708, accuracy=0.352/0.325\n",
      "\n",
      "Final Test : final accuracy = 0.325\n"
     ]
    }
   ],
   "source": [
    "set_hidden(10)\n",
    "steel_exec(epoch_count = 50, report = 10)"
   ]
  },
  {
   "cell_type": "code",
   "execution_count": 33,
   "metadata": {},
   "outputs": [
    {
     "name": "stdout",
     "output_type": "stream",
     "text": [
      "은닉 계층 3개를 갖는 다층 퍼셉트론이 작동되었습니다.\n",
      "Epoch 10 : loss=1.855, accuracy=0.346/0.350\n",
      "Epoch 20 : loss=1.795, accuracy=0.346/0.350\n",
      "Epoch 30 : loss=1.758, accuracy=0.346/0.350\n",
      "Epoch 40 : loss=1.735, accuracy=0.346/0.350\n",
      "Epoch 50 : loss=1.721, accuracy=0.346/0.350\n",
      "\n",
      "Final Test : final accuracy = 0.350\n"
     ]
    }
   ],
   "source": [
    "set_hidden([12, 6, 4])\n",
    "steel_exec(epoch_count = 50, report = 10)"
   ]
  },
  {
   "cell_type": "code",
   "execution_count": 34,
   "metadata": {},
   "outputs": [
    {
     "name": "stdout",
     "output_type": "stream",
     "text": [
      "은닉 계층 3개를 갖는 다층 퍼셉트론이 작동되었습니다.\n",
      "Epoch 10 : loss=1.738, accuracy=0.257/0.182\n",
      "Epoch 20 : loss=1.618, accuracy=0.315/0.468\n",
      "Epoch 30 : loss=1.604, accuracy=0.390/0.389\n",
      "Epoch 40 : loss=1.594, accuracy=0.422/0.471\n",
      "Epoch 50 : loss=1.584, accuracy=0.444/0.471\n",
      "\n",
      "Final Test : final accuracy = 0.471\n"
     ]
    }
   ],
   "source": [
    "LEARNING_RATE = 0.0001\n",
    "hidden_config = [12, 6, 4]\n",
    "steel_exec(epoch_count = 50, report = 10)"
   ]
  },
  {
   "cell_type": "code",
   "execution_count": null,
   "metadata": {},
   "outputs": [],
   "source": []
  }
 ],
 "metadata": {
  "interpreter": {
   "hash": "ca886cc036a68e3f1a017223c2fc2c80a9067ef9ccbc637fc068c311044b690d"
  },
  "kernelspec": {
   "display_name": "Python 3.7.11 64-bit ('adp': conda)",
   "language": "python",
   "name": "python3"
  },
  "language_info": {
   "codemirror_mode": {
    "name": "ipython",
    "version": 3
   },
   "file_extension": ".py",
   "mimetype": "text/x-python",
   "name": "python",
   "nbconvert_exporter": "python",
   "pygments_lexer": "ipython3",
   "version": "3.7.11"
  },
  "orig_nbformat": 4
 },
 "nbformat": 4,
 "nbformat_minor": 2
}
