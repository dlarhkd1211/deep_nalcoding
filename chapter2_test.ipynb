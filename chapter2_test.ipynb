{
 "cells": [
  {
   "cell_type": "code",
   "execution_count": 1,
   "metadata": {},
   "outputs": [
    {
     "name": "stdout",
     "output_type": "stream",
     "text": [
      "0.7310585786300049\n",
      "0.0\n"
     ]
    },
    {
     "name": "stderr",
     "output_type": "stream",
     "text": [
      "chapter2.ipynb:4: RuntimeWarning: overflow encountered in exp\n",
      "  \"cell_type\": \"markdown\",\n"
     ]
    }
   ],
   "source": [
    "%run chapter2.ipynb"
   ]
  },
  {
   "cell_type": "code",
   "execution_count": 2,
   "metadata": {},
   "outputs": [
    {
     "name": "stdout",
     "output_type": "stream",
     "text": [
      "Epoch 1 : loss=0.154, accuracy=0.959/0.972\n",
      "Epoch 2 : loss=0.131, accuracy=0.966/0.972\n",
      "Epoch 3 : loss=0.136, accuracy=0.967/0.970\n",
      "Epoch 4 : loss=0.133, accuracy=0.968/0.970\n",
      "Epoch 5 : loss=0.121, accuracy=0.968/0.969\n",
      "Epoch 6 : loss=0.145, accuracy=0.968/0.974\n",
      "Epoch 7 : loss=0.122, accuracy=0.970/0.975\n",
      "Epoch 8 : loss=0.127, accuracy=0.970/0.976\n",
      "Epoch 9 : loss=0.125, accuracy=0.970/0.976\n",
      "Epoch 10 : loss=0.134, accuracy=0.968/0.976\n",
      "\n",
      "Final Test : final accuracy = 0.976\n"
     ]
    }
   ],
   "source": [
    "pulsar_exec()"
   ]
  },
  {
   "cell_type": "code",
   "execution_count": 15,
   "metadata": {},
   "outputs": [
    {
     "name": "stdout",
     "output_type": "stream",
     "text": [
      "0.7310585786300049\n",
      "0.0\n"
     ]
    },
    {
     "name": "stderr",
     "output_type": "stream",
     "text": [
      "chapter2.ipynb:4: RuntimeWarning: overflow encountered in exp\n",
      "  \"cell_type\": \"markdown\",\n"
     ]
    }
   ],
   "source": [
    "%run chapter2_ext.ipynb"
   ]
  },
  {
   "cell_type": "code",
   "execution_count": 16,
   "metadata": {},
   "outputs": [
    {
     "name": "stdout",
     "output_type": "stream",
     "text": [
      "Epoch 1 : loss=0.139, result = 0.965,0.975,0.624,0.761\n",
      "Epoch 2 : loss=0.128, result = 0.971,0.969,0.696,0.810\n",
      "Epoch 3 : loss=0.130, result = 0.973,0.951,0.734,0.828\n",
      "Epoch 4 : loss=0.131, result = 0.973,0.917,0.762,0.832\n",
      "Epoch 5 : loss=0.130, result = 0.975,0.953,0.755,0.843\n",
      "Epoch 6 : loss=0.127, result = 0.974,0.893,0.809,0.849\n",
      "Epoch 7 : loss=0.130, result = 0.972,0.950,0.718,0.818\n",
      "Epoch 8 : loss=0.119, result = 0.974,0.960,0.743,0.837\n",
      "Epoch 9 : loss=0.116, result = 0.974,0.971,0.727,0.832\n",
      "Epoch 10 : loss=0.120, result = 0.967,0.976,0.649,0.780\n",
      "\n",
      "Final Test: Final Result = 0.967,0.976,0.649,0.780\n"
     ]
    }
   ],
   "source": [
    "pulsar_exec()"
   ]
  },
  {
   "cell_type": "code",
   "execution_count": 17,
   "metadata": {},
   "outputs": [
    {
     "name": "stdout",
     "output_type": "stream",
     "text": [
      "Epoch 1 : loss=0.405, result = 0.923,0.939,0.902,0.920\n",
      "Epoch 2 : loss=0.376, result = 0.918,0.983,0.848,0.910\n",
      "Epoch 3 : loss=0.377, result = 0.904,0.879,0.934,0.906\n",
      "Epoch 4 : loss=0.364, result = 0.915,0.987,0.839,0.907\n",
      "Epoch 5 : loss=0.378, result = 0.925,0.941,0.905,0.923\n",
      "Epoch 6 : loss=0.367, result = 0.923,0.982,0.859,0.916\n",
      "Epoch 7 : loss=0.369, result = 0.917,0.986,0.844,0.909\n",
      "Epoch 8 : loss=0.363, result = 0.927,0.940,0.910,0.925\n",
      "Epoch 9 : loss=0.349, result = 0.926,0.981,0.867,0.920\n",
      "Epoch 10 : loss=0.378, result = 0.915,0.909,0.919,0.914\n",
      "\n",
      "Final Test: Final Result = 0.915,0.909,0.919,0.914\n"
     ]
    }
   ],
   "source": [
    "pulsar_exec(adjust_ratio=True)"
   ]
  },
  {
   "cell_type": "code",
   "execution_count": null,
   "metadata": {},
   "outputs": [],
   "source": []
  }
 ],
 "metadata": {
  "kernelspec": {
   "display_name": "gan",
   "language": "python",
   "name": "gan"
  },
  "language_info": {
   "codemirror_mode": {
    "name": "ipython",
    "version": 3
   },
   "file_extension": ".py",
   "mimetype": "text/x-python",
   "name": "python",
   "nbconvert_exporter": "python",
   "pygments_lexer": "ipython3",
   "version": "3.7.13"
  }
 },
 "nbformat": 4,
 "nbformat_minor": 4
}
