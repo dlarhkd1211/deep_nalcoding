{
 "cells": [
  {
   "cell_type": "code",
   "execution_count": 1,
   "metadata": {},
   "outputs": [],
   "source": [
    "import numpy as np\n",
    "import csv\n",
    "import time\n",
    "\n",
    "np.random.seed(1234)\n",
    "def randomize():\n",
    "    np.random.seed(time.time())"
   ]
  },
  {
   "cell_type": "code",
   "execution_count": 8,
   "metadata": {},
   "outputs": [],
   "source": [
    "RND_MEAN = 0\n",
    "RND_STD = 0.0030\n",
    "# 정규분포 난숫값의 평균과 표준편차로, 가중치 파라미터를 초기화 할 때 이용\n",
    "LEARNING_RATE = 0.001"
   ]
  },
  {
   "cell_type": "code",
   "execution_count": 6,
   "metadata": {},
   "outputs": [],
   "source": [
    "def abakibe_exec(epoch_count = 10, mb_size = 10, report = 1):\n",
    "    load_abalone_dataset() #데이터셋을 읽어옴\n",
    "    init_model() #모델의 파라미터들 초기화\n",
    "    train_and_test(epoch_count, mb_size, report) #학습 및 평가 과정 수행"
   ]
  },
  {
   "cell_type": "markdown",
   "metadata": {},
   "source": [
    "### 데이터 적재 함수 정의"
   ]
  },
  {
   "cell_type": "code",
   "execution_count": 7,
   "metadata": {},
   "outputs": [],
   "source": [
    "def load_abalone_dataset():\n",
    "    with open('data/chap01/abalone.csv') as file:\n",
    "        csvreader = csv.reader(file)\n",
    "        next(csvreader, None) #첫 행을 읽지 않고 건너뜀\n",
    "        rows = []\n",
    "        for row in csvreader:\n",
    "            rows.append(row)\n",
    "            \n",
    "        global data, input_cnt, output_cnt #전역 변수로 선언하여 다른 함수에서도 이용 가능\n",
    "        input_cnt, output_cnt = 10, 1 #입출력 벡터 크기\n",
    "        data = np.zeros([len(rows), input_cnt + output_cnt])\n",
    "        \n",
    "        for n, row in enumerate(rows):\n",
    "            if row[0] == 'I' : data[m, 0] = 1 #OneHotEncoding\n",
    "            if row[0] == 'M' : data[m, 1] = 1\n",
    "            if row[0] == 'F' : data[m, 2] = 1\n",
    "            data[n, 3:] = row[1:]"
   ]
  },
  {
   "cell_type": "markdown",
   "metadata": {},
   "source": [
    "### 파라미터 초기화 함수 정의"
   ]
  },
  {
   "cell_type": "code",
   "execution_count": 11,
   "metadata": {},
   "outputs": [],
   "source": [
    "def init_model():\n",
    "    global weight, bias, input_cnt, output_cnt\n",
    "    weight = np.random.normal(RND_MEAN, RND_STD, [input_cnt, output_cnt]) #가중치 행렬 값들을 정규분포를 갖는 난숫값으로 초기화\n",
    "    # 파라미터의 초깃값을 실행할 때마다 달라지게 만듦\n",
    "    bias = np.zeros([output_cnt]) #초기에 지나친 영향을 주지 않도록 0으로 초기화"
   ]
  },
  {
   "cell_type": "markdown",
   "metadata": {},
   "source": [
    "- weight 가중치 행렬의 크기는 [10, 1], bias 편향 벡터 [1]"
   ]
  },
  {
   "cell_type": "markdown",
   "metadata": {},
   "source": [
    "### 학습 및 평가 함수 정의"
   ]
  },
  {
   "cell_type": "code",
   "execution_count": 12,
   "metadata": {},
   "outputs": [],
   "source": [
    "def train_and_test(epoch_count, mb_size, report):\n",
    "    step_count = arrange_data(mb_size) #데이터를 섞고 학습용과 평가용 데이터셋을 분리하는 역할\n",
    "    # return값은 step_count 하나지만 함수 내에서 global 선언을 통한 데이터셋 분리 기능\n",
    "    test_x, test_y = get_test_data() #evaluation, test에서 같은 데이터 사용을 위해 미리 선언\n",
    "    \n",
    "    for epoch in range(epoch_count):\n",
    "        losses, accs = [], []\n",
    "        \n",
    "        for n in range(step_count): #step count 값 만큼 mini-batch 처리\n",
    "            train_x, train_y = get_train_data(mb_size, n) #mini batch data를 얻어와 run_train 함수로 학습\n",
    "            loss, acc = run_train(train_x, train_y) #mini batch 단위의 정확도와 loss값 return\n",
    "            losses.append(loss)\n",
    "            accs.append(acc)\n",
    "            \n",
    "        if report > 0 and (epoch+1) % report == 0: #report = 보고 주기(acc, loss값 출력)\n",
    "            acc = run_test(test_x, test_y)\n",
    "            print('Epoch {} : loss={:5.3f}, accuracy={:5.3f}/{:5.3f}'.format(epoch+1, np.mean(losses), np.mean(accs), acc))\n",
    "            \n",
    "    final_acc= run_test(test_x, test_y) #전체 epoch가 끝나면 최종 평가 진행\n",
    "    print('\\nFinal Test : final accuracy = {:5.3f}'.format(final_acc))"
   ]
  },
  {
   "cell_type": "code",
   "execution_count": null,
   "metadata": {},
   "outputs": [],
   "source": []
  }
 ],
 "metadata": {
  "kernelspec": {
   "display_name": "gan",
   "language": "python",
   "name": "gan"
  },
  "language_info": {
   "codemirror_mode": {
    "name": "ipython",
    "version": 3
   },
   "file_extension": ".py",
   "mimetype": "text/x-python",
   "name": "python",
   "nbconvert_exporter": "python",
   "pygments_lexer": "ipython3",
   "version": "3.7.13"
  }
 },
 "nbformat": 4,
 "nbformat_minor": 4
}
