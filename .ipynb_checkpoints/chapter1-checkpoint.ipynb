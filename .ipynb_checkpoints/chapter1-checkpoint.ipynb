{
 "cells": [
  {
   "cell_type": "code",
   "execution_count": 1,
   "metadata": {},
   "outputs": [],
   "source": [
    "import numpy as np\n",
    "import csv\n",
    "import time\n",
    "\n",
    "np.random.seed(1234)\n",
    "def randomize():\n",
    "    np.random.seed(time.time())"
   ]
  },
  {
   "cell_type": "code",
   "execution_count": 2,
   "metadata": {},
   "outputs": [],
   "source": [
    "RND_MEAN = 0\n",
    "RND_STD = 0.0030\n",
    "# 정규분포 난숫값의 평균과 표준편차로, 가중치 파라미터를 초기화 할 때 이용\n",
    "LEARNING_RATE = 0.001"
   ]
  },
  {
   "cell_type": "code",
   "execution_count": 9,
   "metadata": {},
   "outputs": [],
   "source": [
    "def abalone_exec(epoch_count = 10, mb_size = 10, report = 1):\n",
    "    load_abalone_dataset() #데이터셋을 읽어옴\n",
    "    init_model() #모델의 파라미터들 초기화\n",
    "    train_and_test(epoch_count, mb_size, report) #학습 및 평가 과정 수행"
   ]
  },
  {
   "cell_type": "markdown",
   "metadata": {},
   "source": [
    "### 데이터 적재 함수 정의"
   ]
  },
  {
   "cell_type": "code",
   "execution_count": 4,
   "metadata": {},
   "outputs": [],
   "source": [
    "def load_abalone_dataset():\n",
    "    with open('data/chap01/abalone.csv') as file:\n",
    "        csvreader = csv.reader(file)\n",
    "        next(csvreader, None) #첫 행을 읽지 않고 건너뜀\n",
    "        rows = []\n",
    "        for row in csvreader:\n",
    "            rows.append(row)\n",
    "            \n",
    "        global data, input_cnt, output_cnt #전역 변수로 선언하여 다른 함수에서도 이용 가능\n",
    "        input_cnt, output_cnt = 10, 1 #입출력 벡터 크기\n",
    "        data = np.zeros([len(rows), input_cnt + output_cnt])\n",
    "        \n",
    "        for n, row in enumerate(rows):\n",
    "            if row[0] == 'I' : data[m, 0] = 1 #OneHotEncoding\n",
    "            if row[0] == 'M' : data[m, 1] = 1\n",
    "            if row[0] == 'F' : data[m, 2] = 1\n",
    "            data[n, 3:] = row[1:]"
   ]
  },
  {
   "cell_type": "markdown",
   "metadata": {},
   "source": [
    "### 파라미터 초기화 함수 정의"
   ]
  },
  {
   "cell_type": "code",
   "execution_count": 5,
   "metadata": {},
   "outputs": [],
   "source": [
    "def init_model():\n",
    "    global weight, bias, input_cnt, output_cnt\n",
    "    weight = np.random.normal(RND_MEAN, RND_STD, [input_cnt, output_cnt]) #가중치 행렬 값들을 정규분포를 갖는 난숫값으로 초기화\n",
    "    # 파라미터의 초깃값을 실행할 때마다 달라지게 만듦\n",
    "    bias = np.zeros([output_cnt]) #초기에 지나친 영향을 주지 않도록 0으로 초기화"
   ]
  },
  {
   "cell_type": "markdown",
   "metadata": {},
   "source": [
    "- weight 가중치 행렬의 크기는 [10, 1], bias 편향 벡터 [1]"
   ]
  },
  {
   "cell_type": "markdown",
   "metadata": {},
   "source": [
    "### 학습 및 평가 함수 정의"
   ]
  },
  {
   "cell_type": "code",
   "execution_count": 6,
   "metadata": {},
   "outputs": [],
   "source": [
    "def train_and_test(epoch_count, mb_size, report):\n",
    "    step_count = arrange_data(mb_size) #데이터를 섞고 학습용과 평가용 데이터셋을 분리하는 역할\n",
    "    # return값은 step_count 하나지만 함수 내에서 global 선언을 통한 데이터셋 분리 기능\n",
    "    test_x, test_y = get_test_data() #evaluation, test에서 같은 데이터 사용을 위해 미리 선언\n",
    "    \n",
    "    for epoch in range(epoch_count):\n",
    "        losses, accs = [], []\n",
    "        \n",
    "        for n in range(step_count): #step count 값 만큼 mini-batch 처리\n",
    "            train_x, train_y = get_train_data(mb_size, n) #mini batch data를 얻어와 run_train 함수로 학습\n",
    "            loss, acc = run_train(train_x, train_y) #mini batch 단위의 정확도와 loss값 return\n",
    "            losses.append(loss)\n",
    "            accs.append(acc)\n",
    "            \n",
    "        if report > 0 and (epoch+1) % report == 0: #report = 보고 주기(acc, loss값 출력)\n",
    "            acc = run_test(test_x, test_y)\n",
    "            print('Epoch {} : loss={:5.3f}, accuracy={:5.3f}/{:5.3f}'.format(epoch+1, np.mean(losses), np.mean(accs), acc))\n",
    "            \n",
    "    final_acc= run_test(test_x, test_y) #전체 epoch가 끝나면 최종 평가 진행\n",
    "    print('\\nFinal Test : final accuracy = {:5.3f}'.format(final_acc))"
   ]
  },
  {
   "cell_type": "markdown",
   "metadata": {},
   "source": [
    "### 학습 및 평가 데이터 획득 함수 정의"
   ]
  },
  {
   "cell_type": "code",
   "execution_count": 7,
   "metadata": {},
   "outputs": [],
   "source": [
    "def arrange_data(mb_size):\n",
    "    global data, shuffle_data, test_begin_idx\n",
    "    shuffle_map = np.arange(data.shape[0]) #데이터의 수 만큼 일련번호 발생\n",
    "    np.random.shuffle(shuffle_map) #무작위로 셔플\n",
    "    step_count = int(data.shape[0] * 0.8) // mb_size\n",
    "    test_begin_idx = step_count * mb_size #test_begin_idx : 학습 데이터와 테스트 데이터의 경계 index\n",
    "    return step_count"
   ]
  },
  {
   "cell_type": "code",
   "execution_count": 8,
   "metadata": {},
   "outputs": [],
   "source": [
    "def get_test_data():\n",
    "    global data, shuffle_map, test_begin_idx, output_cnt\n",
    "    test_data = data[shuffle_map[test_begin_idx:]] #arrange_data 함수에서 구해놓은 위치를 통해 평가용 데이터 분할\n",
    "    return test_data[:,:-output_cnt], test_data[:,-output_cnt:] #output_cnt 기준으로 앞쪽은 입력 벡터, 뒷쪽은 정답 벡터로 반환"
   ]
  },
  {
   "cell_type": "code",
   "execution_count": 10,
   "metadata": {},
   "outputs": [],
   "source": [
    "def get_train_dat(mb_size, nth):\n",
    "    global data, shuffle_map, test_begin_idx, output_cnt\n",
    "    if nth == 0:\n",
    "        np.random.shuffle(shuffle_map[:test_begin_idx]) #각 epoch의 첫번째호출에 한해 학습 데이터 부분에 대한 부분적인 순서를 뒤섞음\n",
    "    train_data = data[shuffle_map[mb_size * nth:mb_size*(nth+1)]] #미니배치 구간에 해당하는 데이터 반환\n",
    "    return train_data[:,:-output_cnt], train_data[:,-output_cnt:] #반환하는 각 행에 대해 입력 벡터 부분과 정답 벡터 부분을 분할해 반환"
   ]
  },
  {
   "cell_type": "markdown",
   "metadata": {},
   "source": [
    "### 학습 실행 함수와 평가 실행 함수 정의"
   ]
  },
  {
   "cell_type": "code",
   "execution_count": 11,
   "metadata": {},
   "outputs": [],
   "source": [
    "def run_train(x, y): #미니매치 데이터를 이용한 한 스텝의 학습 수행\n",
    "    output, aux_nn = forward_neuralnet(x) #단층 퍼셉트론 신경망에 대한 순전파를 수행하여 output을 구한다\n",
    "    loss, aux_pp = forward_postproc(output, y) #회귀 분석 문제의 성격에 맞춘 후처리 순전파 작업을 수행해 output과 y에 대한 손실함수를 계산\n",
    "    #두 단계를 나눈 이유는 문제의 특성에 따라 postproc 함수만 바꾸어 주면 되기 때문.\n",
    "    accuracy = eval_accuracy(output, y)\n",
    "    #aux_** : 역전파에 필요한 정보 혹은 효율을 높이기 위한 정보\n",
    "    \n",
    "    G_loss = 1.0 #역전파의 시작점\n",
    "    #역전파는 순전파의 순서와 반대로 진행된다.\n",
    "    G_output = backprop_postproc(G_loss, aux_pp) #G_loss로부터 G_output을 구하는 과정, 역전파용 보조 정보로서 aux_pp도 같이 제공\n",
    "    backprop_neuralnet(G_output, aux_nn) #원칙적으로는 G_x를 구해야 하나 x는 알고리즘을 통해 변하는 값이 아니고, 더이상 수행할 역전파가 없기 때문에 출력 X\n",
    "    #backprop_neuralnet이 실행되는 중에 신경망 파라미터는 실제로 변화한다(학습이 진행된다)\n",
    "    return loss, accuracy"
   ]
  },
  {
   "cell_type": "code",
   "execution_count": 12,
   "metadata": {},
   "outputs": [],
   "source": [
    "def run_test(x, y):\n",
    "    output, _ = forward_neuralnet(x)\n",
    "    accuracy = eval_accuracy(output, y) #신경망에 대한 순전파 처리후 바로 정확도 계산\n",
    "    #학습때와 달리 손실함수나 역전파 과정이 필요하지 않음\n",
    "    return accuracy"
   ]
  },
  {
   "cell_type": "markdown",
   "metadata": {},
   "source": [
    "### 단층 퍼셉트론에 대한 순전파 및 역전파 함수 정의"
   ]
  },
  {
   "cell_type": "code",
   "execution_count": 13,
   "metadata": {},
   "outputs": [],
   "source": [
    "def forward_neuralnet(x):\n",
    "    global weight, bias\n",
    "    output = np.matmul(x, weights) + bias #입력 행렬x에 대해 가중치 행렬 weight를 곱하고 편행 벡터 bias를 더하여 output 출력\n",
    "    #[N, 10] * [10, 1] + [N 1] -> [N, 1] 출력\n",
    "    return output, x #역전파에 이용될 보조정보로서 입력 행렬 x 반환"
   ]
  },
  {
   "cell_type": "code",
   "execution_count": 14,
   "metadata": {},
   "outputs": [],
   "source": [
    "def backprop_neuralnet(G_output, x):\n",
    "    global weight, bias\n",
    "    g_output_w = x.transpose() #x와 output 사이의 기울기 \n",
    "    \n",
    "    G_w = np.matmul(G_output_w, G_output) #순전파 출력 output에 대한 손실 기울기 G_output을 전달받아 weight와 bias의 손실 기울기를 구한다.\n",
    "    #[10, N] * [N, 1] -> [10, 1]\n",
    "    G_b = np.sum(G_output, axis = 0)\n",
    "    \n",
    "    weight -= LEARNING_RATE * G_w #손실 기울기값과 learning rate를 곱한 값을 빼서 실제 학습 진행\n",
    "    bias -= LEARNING_RATE * G_b"
   ]
  },
  {
   "cell_type": "code",
   "execution_count": null,
   "metadata": {},
   "outputs": [],
   "source": []
  }
 ],
 "metadata": {
  "kernelspec": {
   "display_name": "gan",
   "language": "python",
   "name": "gan"
  },
  "language_info": {
   "codemirror_mode": {
    "name": "ipython",
    "version": 3
   },
   "file_extension": ".py",
   "mimetype": "text/x-python",
   "name": "python",
   "nbconvert_exporter": "python",
   "pygments_lexer": "ipython3",
   "version": "3.7.13"
  }
 },
 "nbformat": 4,
 "nbformat_minor": 4
}
